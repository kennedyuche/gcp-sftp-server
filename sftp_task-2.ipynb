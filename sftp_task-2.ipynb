{
 "cells": [
  {
   "cell_type": "markdown",
   "id": "32037d0c",
   "metadata": {},
   "source": [
    "## Creating SFTP server instance on GCP  \n",
    "\n"
   ]
  },
  {
   "cell_type": "code",
   "execution_count": 1,
   "id": "2449ffc9",
   "metadata": {
    "scrolled": true
   },
   "outputs": [
    {
     "name": "stderr",
     "output_type": "stream",
     "text": [
      "The system cannot find the path specified.\n"
     ]
    }
   ],
   "source": [
    "# Install the required module to interface with SFTP\n",
    "\n",
    "! pip install pysftp --quiet"
   ]
  },
  {
   "cell_type": "code",
   "execution_count": 2,
   "id": "26d5f7d2",
   "metadata": {},
   "outputs": [
    {
     "name": "stderr",
     "output_type": "stream",
     "text": [
      "The system cannot find the path specified.\n"
     ]
    }
   ],
   "source": [
    "# Install the module to authenticate to GCP\n",
    "\n",
    "! pip install gcloud --quiet"
   ]
  },
  {
   "cell_type": "code",
   "execution_count": 3,
   "id": "7203c9ed",
   "metadata": {},
   "outputs": [],
   "source": [
    "# Import the necessary libraries\n",
    "\n",
    "import pysftp\n",
    "import logging\n",
    "import configparser"
   ]
  },
  {
   "cell_type": "code",
   "execution_count": 4,
   "id": "05c05f50",
   "metadata": {
    "scrolled": true
   },
   "outputs": [],
   "source": [
    "# Load the parameters from the config file\n",
    "\n",
    "config = configparser.ConfigParser()\n",
    "config.read('config.cfg.template', encoding='utf-8-sig')\n",
    "vm_ext_ip              =  config['GCP']['HOST_NAME']\n",
    "vm_user                =  config['GCP']['USERNAME']\n",
    "vm_user_pass           =  config['GCP']['PASSWORD']\n",
    "gcp_credential_path    =  config['GCP']['CREDENTIAL_PATH']\n",
    "gcp_bucket_name        =  config['GCP']['BUCKET_NAME']\n",
    "gcp_project_name       =  config['GCP']['PROJECT_ID']"
   ]
  },
  {
   "cell_type": "code",
   "execution_count": 5,
   "id": "2e5decd5",
   "metadata": {},
   "outputs": [],
   "source": [
    "class SFTP_Server():\n",
    "    \"\"\"\n",
    "    This class is used to initialize the SFTP server and start the server connection\"\"\"\n",
    "    def __init__(self, host_name, user_name, pass_word):\n",
    "        self.host_name = host_name\n",
    "        self.user_name = user_name\n",
    "        self.pass_word = pass_word\n",
    "        \n",
    "    def connect(self):\n",
    "        \"\"\"\n",
    "        This class method is used to connect to the SFTP server\n",
    "        \"\"\"\n",
    "        \n",
    "        try:\n",
    "            cnopts = pysftp.CnOpts()\n",
    "            cnopts.hostkeys = None\n",
    "            sftp = pysftp.Connection(host=self.host_name, username=self.user_name, password=self.pass_word, cnopts=cnopts)\n",
    "            return sftp\n",
    "    \n",
    "        except Exception:\n",
    "            logging.exception(\"An error occured. Check the credentials\")    "
   ]
  },
  {
   "cell_type": "code",
   "execution_count": 6,
   "id": "56c6279a",
   "metadata": {},
   "outputs": [],
   "source": [
    "# Intantiate the remote server\n",
    "\n",
    "server = SFTP_Server(vm_ext_ip, vm_user, vm_user_pass)"
   ]
  },
  {
   "cell_type": "code",
   "execution_count": 7,
   "id": "54590a55",
   "metadata": {},
   "outputs": [],
   "source": [
    "# Connect to the remote server\n",
    "\n",
    "sftp = server.connect()"
   ]
  },
  {
   "cell_type": "code",
   "execution_count": 8,
   "id": "4dd41616",
   "metadata": {},
   "outputs": [
    {
     "data": {
      "text/plain": [
       "'/home/kennedy'"
      ]
     },
     "execution_count": 8,
     "metadata": {},
     "output_type": "execute_result"
    }
   ],
   "source": [
    "# Check the present working directory\n",
    "\n",
    "sftp.pwd"
   ]
  },
  {
   "cell_type": "code",
   "execution_count": 9,
   "id": "8a7ecca1",
   "metadata": {},
   "outputs": [],
   "source": [
    "def upload_to_sftp(file_path, remPath=None):\n",
    "    \"\"\"\n",
    "    This function uploads files to SFTP server.\n",
    "    \n",
    "    INPUTS\n",
    "    \n",
    "    file_path: Path to the file on the local directory\n",
    "    \n",
    "    remPath: Remote path on SFTP for the file to be uploaded to. If set to None, the file is uploaded to the present working directory.\n",
    "    \"\"\"\n",
    "    \n",
    "    file_upload = sftp.put(file_path, preserve_mtime=True, remotepath=remPath)\n",
    "\n",
    "    return file_upload"
   ]
  },
  {
   "cell_type": "code",
   "execution_count": 10,
   "id": "9d127a2c",
   "metadata": {},
   "outputs": [
    {
     "data": {
      "text/plain": [
       "<SFTPAttributes: [ size=6 uid=1000 gid=1001 mode=0o100664 atime=1657410542 mtime=1657410542 ]>"
      ]
     },
     "execution_count": 10,
     "metadata": {},
     "output_type": "execute_result"
    }
   ],
   "source": [
    "# Upload sample files to SFTP server\n",
    "upload_to_sftp(file_path='sample.csv')\n",
    "upload_to_sftp(file_path='sample_2.csv')\n",
    "upload_to_sftp(file_path='sample_3.csv')"
   ]
  },
  {
   "cell_type": "code",
   "execution_count": 38,
   "id": "d22a9bdf",
   "metadata": {},
   "outputs": [
    {
     "data": {
      "text/plain": [
       "['.bash_history',\n",
       " '.bash_logout',\n",
       " '.bash_profile',\n",
       " '.bashrc',\n",
       " '.ssh',\n",
       " 'sample.csv',\n",
       " 'sample_2.csv',\n",
       " 'sample_3.csv',\n",
       " 'testfiles',\n",
       " 'testfiles\\\\.\\\\file1.txt',\n",
       " 'testfiles\\\\.\\\\file2.txt',\n",
       " 'testfiles\\\\.\\\\file3.txt']"
      ]
     },
     "execution_count": 38,
     "metadata": {},
     "output_type": "execute_result"
    }
   ],
   "source": [
    "# List the files in the present working directory in the SFTP server\n",
    "\n",
    "work_dir = sftp.pwd\n",
    "\n",
    "sftp.listdir(work_dir)"
   ]
  },
  {
   "cell_type": "code",
   "execution_count": 12,
   "id": "5e997fcd",
   "metadata": {},
   "outputs": [],
   "source": [
    "def gcs_auth(credential_path: str, bucket_name: str, project_id: str):\n",
    "    \"\"\"\n",
    "    This function authenticates to GCP with the supplied credentials and returns the GCS bucket\n",
    "    \n",
    "    inputs:  \n",
    "    \n",
    "    credential_path: The path to the json file generated from GCP for the service account secret key.\n",
    "\n",
    "    bucket_name: The name of the GCS bucket that data will be ingested into.\n",
    "\n",
    "    project_id: Name of the project on GCP hosting the service account.\n",
    "\n",
    "    Output: GCS bucket\n",
    "    \"\"\"\n",
    "\n",
    "    import json\n",
    "\n",
    "    from google.cloud import storage\n",
    "    from google.oauth2 import service_account\n",
    "\n",
    "    with open(credential_path) as source:\n",
    "        info = json.load(source)\n",
    "\n",
    "    storage_credentials = service_account.Credentials.from_service_account_info(info)\n",
    "\n",
    "    storage_client = storage.Client(project=project_id, credentials=storage_credentials)\n",
    "    \n",
    "    bucket = storage_client.get_bucket(bucket_name)\n",
    "    \n",
    "    return bucket"
   ]
  },
  {
   "cell_type": "code",
   "execution_count": 13,
   "id": "dd375f68",
   "metadata": {},
   "outputs": [],
   "source": [
    "def gcs_file_upload(gcs_file_path: str):\n",
    "    \"\"\"\n",
    "    This function uploads files from SFTP server working directory to GCS blob storage.\n",
    "\n",
    "    Input:\n",
    "\n",
    "    gcs_file_path: Path on GCS for file upload. This will be authomatically created if it's not there already.\n",
    "    \"\"\"\n",
    "    \n",
    "    bucket = gcs_auth(credential_path=gcp_credential_path, bucket_name=gcp_bucket_name, project_id=gcp_project_name)\n",
    "    blob = bucket.blob(gcs_file_path)\n",
    "    \n",
    "    with sftp.open(gcs_file_path, bufsize=32768) as file:\n",
    "        blob.upload_from_file(file)"
   ]
  },
  {
   "cell_type": "code",
   "execution_count": 14,
   "id": "03d7fc25",
   "metadata": {},
   "outputs": [],
   "source": [
    "gcs_file_upload(gcs_file_path='sample.csv')\n",
    "gcs_file_upload(gcs_file_path='sample_2.csv')\n",
    "gcs_file_upload(gcs_file_path='sample_3.csv')"
   ]
  },
  {
   "cell_type": "code",
   "execution_count": 32,
   "id": "182bc1a1",
   "metadata": {},
   "outputs": [],
   "source": [
    "# Close the SFTP server connection\n",
    "sftp.close()"
   ]
  }
 ],
 "metadata": {
  "kernelspec": {
   "display_name": "Python 3 (ipykernel)",
   "language": "python",
   "name": "python3"
  },
  "language_info": {
   "codemirror_mode": {
    "name": "ipython",
    "version": 3
   },
   "file_extension": ".py",
   "mimetype": "text/x-python",
   "name": "python",
   "nbconvert_exporter": "python",
   "pygments_lexer": "ipython3",
   "version": "3.9.7"
  }
 },
 "nbformat": 4,
 "nbformat_minor": 5
}
